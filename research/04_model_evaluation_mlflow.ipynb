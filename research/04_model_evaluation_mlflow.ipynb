{
 "cells": [
  {
   "cell_type": "code",
   "execution_count": 1,
   "id": "3078ca56",
   "metadata": {},
   "outputs": [
    {
     "name": "stdout",
     "output_type": "stream",
     "text": [
      "Working directory set to: E:\\DeepLearning\\Kidney-Disease-Classification\n"
     ]
    }
   ],
   "source": [
    "\n",
    "import os\n",
    "from pathlib import Path\n",
    "\n",
    "# Set your working directory explicitly\n",
    "project_dir = Path(r\"E:\\DeepLearning\\Kidney-Disease-Classification\")\n",
    "os.chdir(project_dir)\n",
    "print(\"Working directory set to:\", os.getcwd())\n"
   ]
  },
  {
   "cell_type": "code",
   "execution_count": 2,
   "id": "78b6c953",
   "metadata": {},
   "outputs": [
    {
     "name": "stdout",
     "output_type": "stream",
     "text": [
      "MLFLOW_TRACKING_URI = https://dagshub.com/ACHYUTH1203/Kidney-Disease-Classification.mlflow\n",
      "User = ACHYUTH1203\n"
     ]
    }
   ],
   "source": [
    "# Cell 1 — setup (token inline, per your request)\n",
    "import os\n",
    "from pathlib import Path\n",
    "\n",
    "\n",
    "\n",
    "# Use YOUR repo on DagsHub\n",
    "DAGSHUB_USERNAME = \"ACHYUTH1203\"\n",
    "DAGSHUB_REPO     = \"Kidney-Disease-Classification\"\n",
    "\n",
    "# MLflow tracking URL for your repo\n",
    "MLFLOW_TRACKING_URI = f\"https://dagshub.com/{DAGSHUB_USERNAME}/{DAGSHUB_REPO}.mlflow\"\n",
    "\n",
    "# === YOUR TOKEN (from the screenshot) ===\n",
    "TOKEN = \"7d82077e1fc014eeaf3b04b0572df2f6d80a8ca9\"\n",
    "\n",
    "# Set env vars for MLflow auth\n",
    "os.environ[\"MLFLOW_TRACKING_URI\"] = MLFLOW_TRACKING_URI\n",
    "os.environ[\"MLFLOW_TRACKING_USERNAME\"] = DAGSHUB_USERNAME\n",
    "os.environ[\"MLFLOW_TRACKING_PASSWORD\"] = TOKEN\n",
    "\n",
    "# DagsHub tip: disable MLflow “Logged Models” (unsupported there)\n",
    "os.environ[\"MLFLOW_ENABLE_LOGGED_MODELS\"] = \"false\"\n",
    "\n",
    "print(\"MLFLOW_TRACKING_URI =\", os.environ[\"MLFLOW_TRACKING_URI\"])\n",
    "print(\"User =\", os.environ[\"MLFLOW_TRACKING_USERNAME\"])\n"
   ]
  },
  {
   "cell_type": "code",
   "execution_count": 3,
   "id": "6355358a",
   "metadata": {},
   "outputs": [],
   "source": [
    "from pathlib import Path\n",
    "\n",
    "project_dir = Path(r\"E:\\DeepLearning\\Kidney-Disease-Classification\")\n",
    "ROOT_DIR = Path.cwd()\n",
    "CONFIG_FILE_PATH = ROOT_DIR / \"config\" / \"config.yaml\"\n",
    "PARAMS_FILE_PATH = ROOT_DIR / \"params.yaml\""
   ]
  },
  {
   "cell_type": "code",
   "execution_count": null,
   "id": "0e0da4a3",
   "metadata": {},
   "outputs": [],
   "source": [
    "# Cell 2 — config objects\n",
    "from dataclasses import dataclass\n",
    "from pathlib import Path\n",
    "import tensorflow as tf\n",
    "\n",
    "from cnnClassifier.constants import *\n",
    "from cnnClassifier.utils.common import read_yaml, create_directories, save_json\n",
    "\n",
    "@dataclass(frozen=True)\n",
    "class EvaluationConfig:\n",
    "    path_of_model: Path\n",
    "    training_data: Path\n",
    "    all_params: dict\n",
    "    mlflow_uri: str\n",
    "    params_image_size: list\n",
    "    params_batch_size: int\n",
    "\n",
    "class ConfigurationManager:\n",
    "    def __init__(\n",
    "        self,\n",
    "        config_filepath: Path = CONFIG_FILE_PATH,\n",
    "        params_filepath: Path = PARAMS_FILE_PATH\n",
    "    ):\n",
    "        self.config = read_yaml(config_filepath)\n",
    "        self.params = read_yaml(params_filepath)\n",
    "        create_directories([self.config.artifacts_root])\n",
    "\n",
    "    def get_evaluation_config(self) -> EvaluationConfig:\n",
    "        eval_config=EvaluationConfig(\n",
    "            path_of_model=Path(\"artifacts/training/model.h5\"),\n",
    "            training_data=Path(\"artifacts/data_ingestion/kidney-ct-scan-image\"),\n",
    "            mlflow_uri=os.environ[\"MLFLOW_TRACKING_URI\"],   # <- use the env we set in Cell 1\n",
    "            all_params=self.params,\n",
    "            params_image_size=self.params.IMAGE_SIZE,\n",
    "            params_batch_size=self.params.BATCH_SIZE)\n",
    "        return eval_config\n"
   ]
  },
  {
   "cell_type": "code",
   "execution_count": 5,
   "id": "068ce4d2",
   "metadata": {},
   "outputs": [],
   "source": [
    "# Cell 3 — evaluation & logging\n",
    "import mlflow\n",
    "\n",
    "class Evaluation:\n",
    "    def __init__(self, config: EvaluationConfig):\n",
    "        self.config = config\n",
    "        self.model: tf.keras.Model = None\n",
    "        self.valid_generator = None\n",
    "        self.score = None  # (loss, accuracy)\n",
    "\n",
    "    @staticmethod\n",
    "    def load_model(path: Path) -> tf.keras.Model:\n",
    "        if not path.exists():\n",
    "            raise FileNotFoundError(f\"Model file not found at: {path.resolve()}\")\n",
    "        return tf.keras.models.load_model(path)\n",
    "\n",
    "    def _valid_generator(self):\n",
    "        datagenerator_kwargs = dict(rescale=1.0/255.0, validation_split=0.30)\n",
    "        dataflow_kwargs = dict(\n",
    "            target_size=self.config.params_image_size[:-1],\n",
    "            batch_size=self.config.params_batch_size,\n",
    "            interpolation=\"bilinear\"\n",
    "        )\n",
    "        valid_datagenerator = tf.keras.preprocessing.image.ImageDataGenerator(**datagenerator_kwargs)\n",
    "        self.valid_generator = valid_datagenerator.flow_from_directory(\n",
    "            directory=str(self.config.training_data),\n",
    "            subset=\"validation\",\n",
    "            shuffle=False,\n",
    "            **dataflow_kwargs\n",
    "        )\n",
    "        return self.valid_generator\n",
    "\n",
    "    def evaluation(self):\n",
    "        self.model = self.load_model(self.config.path_of_model)\n",
    "        self._valid_generator()\n",
    "        # ✅ FIX: evaluate the instance model you just loaded\n",
    "        self.score = self.model.evaluate(self.valid_generator, verbose=1)\n",
    "        self._save_score()\n",
    "\n",
    "    def _save_score(self):\n",
    "        out_dir = Path(\"artifacts/evaluation\")\n",
    "        out_dir.mkdir(parents=True, exist_ok=True)\n",
    "        scores = {\"loss\": float(self.score[0]), \"accuracy\": float(self.score[1])}\n",
    "        save_json(path=out_dir / \"scores.json\", data=scores)\n",
    "\n",
    "    def log_into_mlflow(self):\n",
    "        \"\"\"\n",
    "        DagsHub-compatible:\n",
    "        - set TRACKING URI (not registry)\n",
    "        - log params/metrics\n",
    "        - log a single-file .keras model as an artifact under Artifacts/model/\n",
    "        \"\"\"\n",
    "        mlflow.set_tracking_uri(self.config.mlflow_uri)\n",
    "        mlflow.set_experiment(\"kidney-clf-evaluation\")\n",
    "\n",
    "        with mlflow.start_run() as run:\n",
    "            run_id = run.info.run_id\n",
    "\n",
    "            # Params\n",
    "            mlflow.log_params({\n",
    "                k: (str(v) if not isinstance(v, (int, float, str, bool)) else v)\n",
    "                for k, v in self.config.all_params.items()\n",
    "            })\n",
    "\n",
    "            # Metrics\n",
    "            mlflow.log_metrics({\n",
    "                \"loss\": float(self.score[0]),\n",
    "                \"accuracy\": float(self.score[1]),\n",
    "            })\n",
    "\n",
    "            # Single-file Keras model (Keras 3) -> save locally, then upload as artifact\n",
    "            model_file = Path(\"artifacts/evaluation/model_export.keras\")\n",
    "            model_file.parent.mkdir(parents=True, exist_ok=True)\n",
    "            self.model.save(model_file)  # writes one .keras file\n",
    "\n",
    "            mlflow.log_artifact(str(model_file), artifact_path=\"model\")\n",
    "\n",
    "            # Optional: add an info file & tags\n",
    "            model_rel = \"model/model_export.keras\"\n",
    "            model_uri = f\"runs:/{run_id}/artifacts/{model_rel}\"\n",
    "            mlflow.set_tag(\"model_artifact_path\", model_rel)\n",
    "            mlflow.set_tag(\"model_uri\", model_uri)\n",
    "            mlflow.log_dict(\n",
    "                {\"format\": \"keras\", \"file\": model_rel, \"model_uri\": model_uri},\n",
    "                artifact_file=\"model/model_info.json\"\n",
    "            )\n",
    "\n",
    "            # Also attach scores.json\n",
    "            scores_path = Path(\"artifacts/evaluation/scores.json\")\n",
    "            if scores_path.exists():\n",
    "                mlflow.log_artifact(str(scores_path), artifact_path=\"evaluation\")\n",
    "\n",
    "        print(\"\\nLogged model artifact at:\", model_rel)\n",
    "        print(\"Model URI:\", model_uri)\n"
   ]
  },
  {
   "cell_type": "code",
   "execution_count": 6,
   "id": "153d6fc7",
   "metadata": {},
   "outputs": [
    {
     "name": "stdout",
     "output_type": "stream",
     "text": [
      "[2025-08-13 11:13:21,850: INFO: common: yaml file: E:\\DeepLearning\\Kidney-Disease-Classification\\config\\config.yaml loaded successfully]\n",
      "[2025-08-13 11:13:21,868: INFO: common: yaml file: E:\\DeepLearning\\Kidney-Disease-Classification\\params.yaml loaded successfully]\n",
      "[2025-08-13 11:13:21,868: INFO: common: created directory at: artifacts]\n",
      "[2025-08-13 11:13:22,363: WARNING: saving_utils: Compiled the loaded model, but the compiled metrics have yet to be built. `model.compile_metrics` will be empty until you train or evaluate the model.]\n",
      "Found 227 images belonging to 2 classes.\n"
     ]
    },
    {
     "name": "stderr",
     "output_type": "stream",
     "text": [
      "e:\\DeepLearning\\Kidney-Disease-Classification\\.venv\\Lib\\site-packages\\keras\\src\\trainers\\data_adapters\\py_dataset_adapter.py:121: UserWarning: Your `PyDataset` class should call `super().__init__(**kwargs)` in its constructor. `**kwargs` can include `workers`, `use_multiprocessing`, `max_queue_size`. Do not pass these arguments to `fit()`, as they will be ignored.\n",
      "  self._warn_if_super_not_called()\n"
     ]
    },
    {
     "name": "stdout",
     "output_type": "stream",
     "text": [
      "\u001b[1m15/15\u001b[0m \u001b[32m━━━━━━━━━━━━━━━━━━━━\u001b[0m\u001b[37m\u001b[0m \u001b[1m21s\u001b[0m 1s/step - accuracy: 0.9031 - loss: 0.1705\n",
      "[2025-08-13 11:13:43,753: INFO: common: json file saved at: artifacts\\evaluation\\scores.json]\n",
      "🏃 View run serious-ray-341 at: https://dagshub.com/ACHYUTH1203/Kidney-Disease-Classification.mlflow/#/experiments/1/runs/4804d5375773479e880c3be35b1dc4db\n",
      "🧪 View experiment at: https://dagshub.com/ACHYUTH1203/Kidney-Disease-Classification.mlflow/#/experiments/1\n",
      "\n",
      "Logged model artifact at: model/model_export.keras\n",
      "Model URI: runs:/4804d5375773479e880c3be35b1dc4db/artifacts/model/model_export.keras\n"
     ]
    }
   ],
   "source": [
    "\n",
    "try:\n",
    "    config = ConfigurationManager()\n",
    "    eval_config = config.get_evaluation_config()\n",
    "    evaluation = Evaluation(eval_config)\n",
    "    evaluation.evaluation()\n",
    "    evaluation.log_into_mlflow()\n",
    "\n",
    "except Exception as e:\n",
    "   raise e"
   ]
  }
 ],
 "metadata": {
  "kernelspec": {
   "display_name": ".venv",
   "language": "python",
   "name": "python3"
  },
  "language_info": {
   "codemirror_mode": {
    "name": "ipython",
    "version": 3
   },
   "file_extension": ".py",
   "mimetype": "text/x-python",
   "name": "python",
   "nbconvert_exporter": "python",
   "pygments_lexer": "ipython3",
   "version": "3.12.6"
  }
 },
 "nbformat": 4,
 "nbformat_minor": 5
}
