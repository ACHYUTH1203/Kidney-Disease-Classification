{
 "cells": [
  {
   "cell_type": "code",
   "execution_count": null,
   "id": "382a758b",
   "metadata": {},
   "outputs": [],
   "source": []
  },
  {
   "cell_type": "code",
   "execution_count": 1,
   "id": "24b76c24",
   "metadata": {},
   "outputs": [],
   "source": [
    "import gdown"
   ]
  },
  {
   "cell_type": "code",
   "execution_count": null,
   "id": "5a08bc74",
   "metadata": {},
   "outputs": [],
   "source": [
    "url=\"https://drive.google.com/file/d/1MLceRM-ckqxHoJLQYgAkJ_8WKdE2H4o-/view?usp=sharing\""
   ]
  },
  {
   "cell_type": "code",
   "execution_count": 3,
   "id": "a1654d4b",
   "metadata": {},
   "outputs": [
    {
     "data": {
      "text/plain": [
       "'1MLceRM-ckqxHoJLQYgAkJ_8WKdE2H4o-'"
      ]
     },
     "execution_count": 3,
     "metadata": {},
     "output_type": "execute_result"
    }
   ],
   "source": [
    "file_id = url.split(\"/\")[-2]\n",
    "file_id"
   ]
  },
  {
   "cell_type": "code",
   "execution_count": 4,
   "id": "01a0d146",
   "metadata": {},
   "outputs": [
    {
     "name": "stderr",
     "output_type": "stream",
     "text": [
      "Downloading...\n",
      "From (original): https://drive.google.com/uc?/export=download&id=1MLceRM-ckqxHoJLQYgAkJ_8WKdE2H4o-\n",
      "From (redirected): https://drive.google.com/uc?%2Fexport=download&id=1MLceRM-ckqxHoJLQYgAkJ_8WKdE2H4o-&confirm=t&uuid=b0bbbfbb-e9ed-4c63-8630-7f8d70d3df44\n",
      "To: e:\\DeepLearning\\Kidney-Disease-Classification\\research\\Chest-CT-Scan-data.zip\n",
      "100%|██████████| 501M/501M [01:10<00:00, 7.06MB/s] \n"
     ]
    },
    {
     "data": {
      "text/plain": [
       "'Chest-CT-Scan-data.zip'"
      ]
     },
     "execution_count": 4,
     "metadata": {},
     "output_type": "execute_result"
    }
   ],
   "source": [
    "prefix ='https://drive.google.com/uc?/export=download&id='\n",
    "\n",
    "gdown.download(prefix+file_id,\"Chest-CT-Scan-data.zip\")"
   ]
  }
 ],
 "metadata": {
  "kernelspec": {
   "display_name": ".venv",
   "language": "python",
   "name": "python3"
  },
  "language_info": {
   "codemirror_mode": {
    "name": "ipython",
    "version": 3
   },
   "file_extension": ".py",
   "mimetype": "text/x-python",
   "name": "python",
   "nbconvert_exporter": "python",
   "pygments_lexer": "ipython3",
   "version": "3.12.6"
  }
 },
 "nbformat": 4,
 "nbformat_minor": 5
}
