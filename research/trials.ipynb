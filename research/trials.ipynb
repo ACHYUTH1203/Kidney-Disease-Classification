{
 "cells": [
  {
   "cell_type": "code",
   "execution_count": 1,
   "id": "24b76c24",
   "metadata": {},
   "outputs": [],
   "source": [
    "import gdown"
   ]
  },
  {
   "cell_type": "code",
   "execution_count": 5,
   "id": "5a08bc74",
   "metadata": {},
   "outputs": [],
   "source": [
    "\n",
    "\n",
    "url=\"https://drive.google.com/file/d/1rZBLiEbAvdOry2qhfos7OeKdvAObqjEd/view?usp=sharing\""
   ]
  },
  {
   "cell_type": "code",
   "execution_count": 6,
   "id": "a1654d4b",
   "metadata": {},
   "outputs": [
    {
     "data": {
      "text/plain": [
       "'1rZBLiEbAvdOry2qhfos7OeKdvAObqjEd'"
      ]
     },
     "execution_count": 6,
     "metadata": {},
     "output_type": "execute_result"
    }
   ],
   "source": [
    "file_id = url.split(\"/\")[-2]\n",
    "file_id"
   ]
  },
  {
   "cell_type": "code",
   "execution_count": 7,
   "id": "01a0d146",
   "metadata": {},
   "outputs": [
    {
     "name": "stderr",
     "output_type": "stream",
     "text": [
      "Downloading...\n",
      "From (original): https://drive.google.com/uc?/export=download&id=1rZBLiEbAvdOry2qhfos7OeKdvAObqjEd\n",
      "From (redirected): https://drive.google.com/uc?%2Fexport=download&id=1rZBLiEbAvdOry2qhfos7OeKdvAObqjEd&confirm=t&uuid=0c54f860-d291-41d1-980c-086efc98c719\n",
      "To: e:\\DeepLearning\\Kidney-Disease-Classification\\research\\Chest-CT-Scan-data.zip\n",
      "100%|██████████| 95.7M/95.7M [00:14<00:00, 6.62MB/s]\n"
     ]
    },
    {
     "data": {
      "text/plain": [
       "'Chest-CT-Scan-data.zip'"
      ]
     },
     "execution_count": 7,
     "metadata": {},
     "output_type": "execute_result"
    }
   ],
   "source": [
    "prefix ='https://drive.google.com/uc?/export=download&id='\n",
    "\n",
    "gdown.download(prefix+file_id,\"Chest-CT-Scan-data.zip\")"
   ]
  }
 ],
 "metadata": {
  "kernelspec": {
   "display_name": ".venv",
   "language": "python",
   "name": "python3"
  },
  "language_info": {
   "codemirror_mode": {
    "name": "ipython",
    "version": 3
   },
   "file_extension": ".py",
   "mimetype": "text/x-python",
   "name": "python",
   "nbconvert_exporter": "python",
   "pygments_lexer": "ipython3",
   "version": "3.12.6"
  }
 },
 "nbformat": 4,
 "nbformat_minor": 5
}
